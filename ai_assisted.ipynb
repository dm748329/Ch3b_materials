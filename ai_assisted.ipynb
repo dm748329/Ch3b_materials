{
 "cells": [
  {
   "cell_type": "markdown",
   "metadata": {},
   "source": [
    "# AI-Assisted Coding with GitHub Copilot\n",
    "\n",
    "---\n",
    "\n",
    "## Introduction\n",
    "In this lesson we will start exploring how to use GitHub Copilot to generate code for us. We do this by creating natural language prompts (i.e., writing instructions for what you want  the code to do, the way you would say it to another human), and sometimes starting to type a bit of code to get the process started. \n",
    "\n",
    "Because of the generative nature of LLMs like GitHub Copilot, the results will not be the same every time you give it the same prompt. Thus as you're following along with this lesson, Copilot may generate different code that you see here. That's normal! It also means that you may need to experiment with different ways of phrasing a prompt, to get the result you want. You can also ask Copilot to generate alternative code solutions to your prompt, by pressing `Option+[` (or `Start+[` on Windows) after you get the first code suggestion (note that you have to wait until Copilot generates a suggestion before pressing those keys). \n",
    "\n",
    "## Prerequisities\n",
    "\n",
    "You should already have followed all the steps in the chapter, [Set Up Your Computer for Data Science](../2b-setup/introduction.md), including installing VS Code and all the recommended extensions. This includes the GitHub Copilot extension. You should also have set up your GitHub account in VS Code, and l,ogged in to the GitHub Copilot extension using your GitHub account (the extension will routinely pop up messages with a button for you to do this, if you installed the extension but didn't connect it to your GitHub account yet). \n",
    "\n",
    "As noted earlier, GitHub Copilot is a paid add-on from GitHub. It is free for students, but you need to get access by signing up for the [GitHub Student Developer Pack](https://education.github.com/pack). Others with academic afilliations, like professors and postdocs, can also get free access to GitHub Copilot by applying for the [GitHub Teacher Benefits](https://education.github.com/teachers). If you are not affiliated with an educational institution, however, you will need to get a paid subscription to GitHub Copilot in order to use it.\n",
    "\n",
    "Once you have GitHub Copilot installed and connected to your GitHub account, you can start using it in VS Code. You may have turned it off to do the lessons in the previous chapter. If so, you can turn it back on by clicking on the GitHub Copilot icon in the bottom right of the VS Code window (if unsure, move your cursor across the bottom toolbar until you see `Activate Copilot`).\n",
    "\n",
    "---\n",
    "\n"
   ]
  },
  {
   "cell_type": "markdown",
   "metadata": {},
   "source": [
    "## How to Prompt Copilot\n",
    "\n",
    "In a previous lesson we learned about **comments**, which are lines in your code that are not executed, but are there to help you and others understand what the code is doing. In Python, comments start with a `#` symbol. Python will not treat anything after the `#` symbol as code; it will ignore it.\n",
    "\n",
    "With GitHub Copilot activated, it will read your comments as prompts, and use them to generated suggested code. For example, if you type the following code into a cell in a Jupyter notebook:\n",
    "\n",
    "```python\n",
    "# create a list of numbers\n",
    "```\n",
    "\n",
    "and then press `Enter`, Copilot will generate the following code:\n",
    "\n",
    "```python\n",
    "# create a list of numbers\n",
    "numbers = [1, 2, 3, 4, 5, 6, 7, 8, 9, 10]\n",
    "```\n",
    "\n",
    "The suggestions appear as fainter text than code you type yourself. That's how you can tell it's a suggestion. You can accept the suggestion by pressing `Tab`. If you press `Tab`, the suggestion will be inserted into your code, and will appear normal brightness rather than faded. If you don't want to accept the suggestion, you can press `Start+]` (`Option+]` on a Mac) to get an alternative suggestion (Copilot doesn't always have alternative suggestions though). If you don't want to accept any of the suggestions, you can just keep typing your own code.\n",
    "\n",
    "<div class=\"alert alert-info\">\n",
    "You can also use Copilot to generate code by typing a prompt that is not a comment. However, this is not recommended, because when you try to run the cell, Python will try to execute the prompt as code, and will give you an error. \n",
    "</div>\n",
    "\n",
    "The great thing about using comments to generate code is that your code retains the prompts you used, which aids in transparency and reproducibility (to the extent that Copilot produces consistent results). It also means that for your future self, or others who might try to understand your code, the comments will be there to help them understand what the code is doing. Including comments like this has always been good practice, but often people focused on writing the code and included comments as an afterthought, if at all. With Copilot, you can write the comments first, and then use them to generate the code, which ensures a better quality of documentation."
   ]
  },
  {
   "cell_type": "markdown",
   "metadata": {},
   "source": [
    "## Write Your First AI-Assisted Code\n",
    "\n",
    "In the code cell below, type the following prompt as a comment:\n",
    "\n",
    "```python\n",
    "# create a list of numbers\n",
    "```\n",
    "\n",
    "Then press `Tab` to get a suggestion from Copilot. If you like the suggestion (which will likely be the same as what you see below), press `Tab` to accept it, and then Shift+Enter to run the Jupyter cell. \n",
    "\n",
    "<div class=\"alert alert-info\">\n",
    "Sometimes you may accidentally accept a suggestion from Copilot that you didn't mean to. If that happens, you can undo it by pressing `Ctrl+Z` (or `Cmd+Z` on a Mac). Or, you might hit the wrong key and the suggestion will disappear. In this case, you can backspace otherwise move your cursor to the end of the prompt line, and hit `Enter` again to get the suggestion back.</div>\n",
    "\n"
   ]
  },
  {
   "cell_type": "code",
   "execution_count": null,
   "metadata": {},
   "outputs": [],
   "source": []
  },
  {
   "cell_type": "markdown",
   "metadata": {},
   "source": [
    "Hopefully this didn't generate an error, but it also didn't generate any output --- because we didn't ask it to. Let's add a prompt to ask it to print the list of numbers. In the code cell below, type the following two prompts as comments, then press `Tab` to get a suggestion from Copilot. If you like the suggestion, press `Tab` to accept it, and then Shift+Enter to run the Jupyter cell.\n",
    "\n",
    "```python\n",
    "# create a list of numbers\n",
    "# print the list of numbers\n",
    "```"
   ]
  },
  {
   "cell_type": "code",
   "execution_count": null,
   "metadata": {},
   "outputs": [],
   "source": []
  },
  {
   "cell_type": "markdown",
   "metadata": {},
   "source": [
    "In my case, this generated the code you see above, which prints the list of numbers. Even though we asked it to create a list of numbers, it didn't regenerate the code that defines the list of numbers, because it already did that in the previous cell. This is one of the many cool things about Copilot --- it is sensitve to the entire *context* of your notebook (i.e., code cells above and below the cell you're working on), and will use that context to generate suggestions. It's even sensitive to other files in your project, as we will see soon.\n",
    "\n",
    "## Combine Two Lists\n",
    "We're hopeful that you remembered how to create a list in Python from the previous chapter --- that's pretty fundamental. But do you remember how to combine two lists? Maybe not. It's a bit tricky, because if you get it wrong you'll end up with a list of lists, rather than a single list. Copilot can help with this. In the code cell below, define the two lists as shown (Copilot will probably help you with this), then type the following prompt as a comment, then press `Tab` to get a suggestion from Copilot (from here onward, we're just going to tell you what prompts to use, and assume you'll always remember to use `Tab` to accept a suggestion, and Shift+Enter to run the cell).\n",
    "\n",
    "\n",
    "<div class=\"alert alert-info\">\n",
    "You may also notice that Copilot not only generates code from prompts --- it often will generate your prompts for you! Once you get over the initial spookiness (or apparent telepathy) of this, you'll realize that this is actually a very useful feature, because it can help you learn how to phrase prompts, and save you time typing. However, sometimes the prompts it generates are not quite what you want, so you may need to either cycle through alternative suggestions (<code>Option+[</code> or <code>Start+[</code>), or just type the prompt you actually want.\n",
    "</div>\n",
    "\n"
   ]
  },
  {
   "cell_type": "markdown",
   "metadata": {},
   "source": [
    "```python\n",
    "participant_1_data = [1, 3, 5, 7, 9]\n",
    "participant_2_data = [2, 4, 6, 8, 10]\n",
    "# Combine the above two lists into a new list called all_participant_data\n",
    "all_participant_data = participant_1_data + participant_2_data\n",
    "\n",
    "# print the list all_participant_data\n",
    "print(all_participant_data)\n",
    "```"
   ]
  },
  {
   "cell_type": "code",
   "execution_count": null,
   "metadata": {},
   "outputs": [],
   "source": []
  },
  {
   "cell_type": "markdown",
   "metadata": {},
   "source": [
    "Now, how was it that we sort a list? We did that in the previous chapter, but it's not something you do every day, so you might not remember. Copilot can help with that too. In the code cell below, write a prompt to ask for the `all_participant_data` to print out, sorted. You can use the one provided, or try your own\n",
    "```python\n",
    "# print the values in all_participant_data, sorted from smallest to largest\n",
    "```"
   ]
  },
  {
   "cell_type": "code",
   "execution_count": null,
   "metadata": {},
   "outputs": [],
   "source": []
  },
  {
   "cell_type": "markdown",
   "metadata": {},
   "source": [
    "When I started tying the prompt above, Copilot had a couple of suggestions, but neither of them are what I wanted to do. So I just typed the prompt I wanted, and Copilot generated the code you see above."
   ]
  },
  {
   "cell_type": "markdown",
   "metadata": {},
   "source": [
    "<div class=\"alert alert-info\">\n",
    "<h2>Patience is a Virtue (and Sometimes, a Necessity)</h2>\n",
    "\n",
    "Copilot operates pretty fast, normally – especially with relatively simple prompts like these. However, sometimes it takes longer, but it is working. Other times, it's not actively trying to generate code for you. This is typically because it doesn't realize you're waiting for it to generate something. This is still an emerging technology!\n",
    "\n",
    "The way you can determine whether Copilot is trying to generate code or not is to look at the Copilot icon in the bottom right of the VS Code window (the same icon you use to activate/deactivate copilot). If it looks like a face, Copilot is waiting for you. However, if it looks like a spinning circle, Copilot is still trying to generate something for you. Be patient.\n",
    "\n",
    "It is also not uncommon for Copilot to seem to give up on you, and \"go dark\". That is, you type a prompt, hit `Enter`, and nothing happens. The Copilot toolbar icon doesn't spin, and it doesn't generate any suggestions. This is sometimes because it doesn't understand what you're asking it to do. Other times, you may need to save the file, quit VS Code, and restart VS Code. This is still an emerging technology!\n",
    "</div>"
   ]
  },
  {
   "cell_type": "markdown",
   "metadata": {},
   "source": [
    "## Working with Data Files and pandas DataFrames\n",
    "\n",
    "Let's try a more complex example. In the previous chapter, we worked with the Gapminder dataset, which is a CSV file. We used the `pandas` library to read the CSV file into a `DataFrame`, and then used the `DataFrame` to do some analysis. Let's do that again, but this time we'll use Copilot to help us.\n",
    "\n",
    "First, let's prompt Copilot to read the CSV file containing the data for Europe. I've deliberately started with a very minimal prompt, to help illustrate how the wording of the prompt can affect the results. \n",
    "```python\n",
    "# read the gapminder data file for Europe\n",
    "```"
   ]
  },
  {
   "cell_type": "code",
   "execution_count": null,
   "metadata": {},
   "outputs": [],
   "source": []
  },
  {
   "cell_type": "markdown",
   "metadata": {},
   "source": [
    "That generated a scary looking error message! This is human error, not AI error. But before we sort that out, let's marvel at what Copilot did there. We gave it a pretty poor prompt (\"the gapminder data for europe\"), and it guessed that the file was named `gapminder_europe.csv`. It also guessed that we wanted to use the `pandas` library (`pd`) to read the CSV file into a `DataFrame`. That's pretty impressive!\n",
    "\n",
    "Fortunately, the error is pretty self-explanatory. If we want to work with pandas, we always need to first import the pandas library. By convention we give it the alias `pd`. So let's add that to our prompt, and see what happens. Note that Copilot may generate code one line at a time, so you may have to accept the suggestion for the first line of code before it generates the next line of code.\n",
    "\n",
    "```python\n",
    "# import the pandas library as pd and then read the gapminder data file for Europe\n",
    "```"
   ]
  },
  {
   "cell_type": "code",
   "execution_count": null,
   "metadata": {},
   "outputs": [],
   "source": []
  },
  {
   "cell_type": "markdown",
   "metadata": {},
   "source": [
    "More scary error messages! This time, the last line is the most informative. It's telling us that it can't find the file we asked it to read. That's because we haven't told it where to look for the file. When we just list the name of a file, `pd.read_csv()` assumes that the file is in the same directory as the notebook. But in this case, the file is in a subdirectory called `data`. So let's add that to our prompt, and see what happens.\n",
    "\n",
    "```python\n",
    "# import the pandas library as pd and then read the gapminder data file for Europe. \n",
    "# The file is in a subfolder called data\n",
    "```"
   ]
  },
  {
   "cell_type": "code",
   "execution_count": null,
   "metadata": {},
   "outputs": [],
   "source": []
  },
  {
   "cell_type": "markdown",
   "metadata": {},
   "source": [
    "Now we're getting somewhere! Let's view the first few lines of the `DataFrame` to make sure it looks right. \n",
    "\n",
    "```python\n",
    "# show me the first few lines of the gapminder europe data\n",
    "```"
   ]
  },
  {
   "cell_type": "code",
   "execution_count": null,
   "metadata": {},
   "outputs": [],
   "source": []
  },
  {
   "cell_type": "markdown",
   "metadata": {},
   "source": [
    " Again, we used a pretty minimal prompt to get the output. That is, we didn't need to use the exact name of the `DataFrame` (`gapminder_europe`), nor the exact name of the method (`head()`). \n",
    "\n",
    " However, the output of passing a `DataFrame` to `print()` is not formatted as nicely as if we ask the `DataFrame` to print itself. So let's try that.\n",
    "\n",
    "```python\n",
    "# show me the first few lines of the gapminder europe data\n",
    "# format the table nicely\n",
    "```"
   ]
  },
  {
   "cell_type": "code",
   "execution_count": null,
   "metadata": {},
   "outputs": [],
   "source": []
  },
  {
   "cell_type": "markdown",
   "metadata": {},
   "source": [
    "Still not what we wanted (athough at least each row in the DataFrame is now one row in the output) — and Copilot didn't have any alternative suggestions. This is where prompt engineering becomes important. Let's try a different prompt.\n",
    "\n",
    "```python\n",
    "# show me the first few lines of the gapminder europe data\n",
    "# the output should be a table\n",
    "```"
   ]
  },
  {
   "cell_type": "code",
   "execution_count": null,
   "metadata": {},
   "outputs": [],
   "source": []
  },
  {
   "cell_type": "markdown",
   "metadata": {},
   "source": [
    "That did it! We just needed to be a bit more specific about what we wanted to do, by asking for the output as a table. "
   ]
  },
  {
   "cell_type": "markdown",
   "metadata": {},
   "source": [
    "## Split-Apply-Combine\n",
    "\n",
    "In the previous chapter, we learned about the split-apply-combine strategy for data analysis. That's when we split the data into different groups (e.g., according to a paricular variable), apply an operation to each group separately, and then combine the results back into a single table. Let's try that again, but this time we'll use Copilot to help us.\n",
    "\n",
    "Let's replicate the split-apply-combine analysis we did in the previous chapter, where we  calculate the average gdp per capita for each of four regions in Europe: Northern Europe, Southern Europe, Eastern Europe, and Western Europe. We'll start with a very high-level prompt, and see if we get what we want. \n",
    "\n",
    "In the code cell below, after you enter the first three-line prompt, Copilot will generate additional code, including series of prompts (comments) to help you fill in the details. We've just left the other prompts in for reference. In order to get it to generate additional prompts and code, you need to hit enter twice after the first prompt. Apparently Copilot is insistent that your code be nicely formatted, with empty lines between different sections of code that do different steps. This is a good thing, but if you forget to hit `Enter` twice, you may get nothing an think Copilot isn't working. Just hit `Enter` twice, and you should get the prompts you need. Otherwise, try going back to the end of your prompt and hitting `Enter` again.\n",
    "\n",
    "```python\n",
    "# use split-apply-combine to calculate the average gdp per capita \n",
    "# for each of four regions in Europe: Northern Europe, Southern Europe, \n",
    "# Eastern Europe, and Western Europe\n",
    "\n",
    "# split the data into four regions\n",
    "\n",
    "\n",
    "# apply the mean function to calculate the average gdp per capita for each region\n",
    "\n",
    "\n",
    "# combine the results into a new table\n",
    "```"
   ]
  },
  {
   "cell_type": "code",
   "execution_count": null,
   "metadata": {},
   "outputs": [],
   "source": []
  },
  {
   "cell_type": "markdown",
   "metadata": {},
   "source": [
    "## Debugging AI-Generated Code\n",
    "\n",
    "Can you figure out why this error happened? Ideally, you should be able to do this by re-reading the code the Copilot generated. But, the error message also provides guidance, because it tells us there is an error on line 7 (this information is near the top of the error message), and the error is `KeyError: 'group'`. That means that `gapminder_europe` doesn't have a column named `group`. Indeed, if we look at line 7 we see it's attempting to group the data by two columns, `year` and `group`. But `gapminder_europe` doesn't have a column named `group`, which is why we got an error. \n",
    "\n",
    "There are actually a few problems with this code. Not only does `group` not exist as a column, but it's not a great name for a column, because the column should indicate region of Europe. So a better name would be `region`. Another issue is that the `.groupby()` method was given another variable, `year`. But our instructions didn't say anything about year, so we don't want to group by year. We just want to group by region. \n",
    "\n",
    "Let's try fix those issues through better prompt engineering. One thing you'll encounter frequently is that you give Copilot too big a job, and doing what you're asking will require a number of intermediate steps. Copilot isn't great about long-term planning. Remember that LLMs are just advanced versions of the same kind of language model that suggests words when you're typing on your phone. It's often good at predicting the next word you want to type, but if you keep just picking the \"best\" suggestion, you will get a sentence of gibberish more times than not. The same is true with Copilot. If you give it a big job, it will often generate code that doesn't work, because it's trying to do too much at once.\n",
    "\n",
    "So you need to break the job down into smaller steps. In this case, we're doing split-apply-combine, so let's try writing our own prompts for each of those conceptual steps. So let's start with the first step, 'split', and see if we can get Copilot to generate the code to group the data by region.\n",
    "\n",
    "```python\n",
    "# create a new column in the gapminder_europe data frame called 'region'. \n",
    "# Label each country as belonging to 'Northern Europe', 'Southern Europe',\n",
    "# 'Eastern Europe', or 'Western Europe'\n",
    "```"
   ]
  },
  {
   "cell_type": "code",
   "execution_count": null,
   "metadata": {},
   "outputs": [],
   "source": []
  },
  {
   "cell_type": "markdown",
   "metadata": {},
   "source": [
    "AI may be seeming less magical now. Firstly, it largely regenerated my prompt before generating any code. Secondly, it has labelled every country as `Western Europe`, which is wrong. In the previous chapter, we had to manually create lists for each region label, containing the names of each country in that region. We could do that here to help Copilot along, but hopefully AI is smart enough to know what geographical region each European country is in. This is a reasonable prediction in this case, especially because the open-source Gapminder dataset is widely used in teaching data science, so there should be many versions of this specific example in Copilot's training set. We just need to figure out how to get our prompting right.\n",
    "\n",
    "## Break the Problem Down into Smaller Steps\n",
    "\n",
    "Although our prompt may be readily interpretable by a human brain, in terms of communicating what we want, apparently it's too complex for Copilot's AI. If we think about the task we're asking Copilot to do, there are several sub-tasks. That is, in one prompt we're asking Copilot to create four different lists. What if, instead, we ask for one list at a time? \n",
    "\n",
    "It turns out that if we start with the prompt:\n",
    "```python\n",
    "# create a list of the countries in Northern Europe\n",
    "```\n",
    "\n",
    "Copilot will generate the code to create a list of the countries in Northern Europe. \n",
    "\n",
    "```python\n",
    "northern_europe = ['Denmark', 'Finland', 'Iceland', 'Norway', 'Sweden']\n",
    "```\n",
    "\n",
    "That's a good start. But we need to do this for each region. So if we hit `Enter` a couple of times to get a blank line, and then type the prompt:\n",
    "```python\n",
    "# create a list of the countries in \n",
    "```\n",
    "Copilot is smart enough to complete this prompt with `Southern Europe`, and generate the code to create a list of the countries in Southern Europe. \n",
    "\n",
    "Even better, if we accept that code and hit `Enter` two more times, Copilot will actually generate the complete next prompt for us:\n",
    "```python\n",
    "# create a list of the countries in Eastern Europe\n",
    "```\n",
    "\n",
    "And if we accept that one, it generates the code for us, *and* generates the next prompt:\n",
    "```python\n",
    "# create a list of the countries in Western Europe\n",
    "```\n",
    "\n",
    "Once we accept that last prompt, and the code it generates, and again hit `Enter` twice, Copilot really shines. It generates the same prompts we saw above, and the code to create a new column called `region`, and then starts by labelling all countries as `Western Europe`. It generated this code earlier, but it didn't work because we hadn't first used the right prompts to get the four lists of countries in each region. Copilot then goes on to generate code to change the region labels for each country, based on the lists we created above. \n",
    "\n",
    "However, when we try to run this code, we get an error:"
   ]
  },
  {
   "cell_type": "code",
   "execution_count": null,
   "metadata": {},
   "outputs": [],
   "source": []
  },
  {
   "cell_type": "markdown",
   "metadata": {},
   "source": [
    "The error message tells us that `['Malta'] not in index`. Remember that the index is a set of labels for the rows of the DataFrame. `country` was set as the index when we read the CSV file into a DataFrame. So this error is telling us that `Malta` is not in the index. If we look at the code that generated the error, we can see that `Malta` is listed in the countries of Southern Europe. The error we get suggests that data for Malta don't exist in the DataFrame. Let's check that. We can get Copilot to help, by writing a prompt asking it to check if Malta is in the index of the DataFrame.\n",
    "\n",
    "```python\n",
    "# check if 'Malta' is in gapminder_europe\n",
    "```"
   ]
  },
  {
   "cell_type": "code",
   "execution_count": null,
   "metadata": {},
   "outputs": [],
   "source": []
  },
  {
   "cell_type": "markdown",
   "metadata": {},
   "source": [
    "To correct this, we can remove Malta from the `Southern Europe` list. Hopefully you remember how to remove a particular item from a list, from a previous lesson. But there's so much to remember! You would probably need to go back and look it up, or Google it. But as you might anticipate, we can prompt Copilot to do this, too! \n",
    "\n",
    "As I wrote the prompt below, however, Copilot made many incorrect guesses as to what I wanted. Initially rather than `southern_europe` it suggested `gapminder_europe` --- but that would be completely wrong, because the issue is that `Malta` *isn't in* `gapminder_europe`! When I started typing `s` rather than accepting `gapminder_europe`, Copilot suggested `south_europe` – but if you look at the code above, Copilot had named that list `southern_europe`. So, even though Copilot *can* be sensitive to the context of the file you're working in, it's still not perfect, and may suggest erroneous code such as the wrong variable name. If you're not paying attention, and understanding the code you're generating with Copilot, it's highly likely that you will make a lot of errors. But after manual correction of the prompt, Copilot did produce a correct suggestion for how to remove `Malta` from the `southern_europe` list:\n",
    "\n",
    "```python\n",
    "# remove 'Malta' from southern_europe\n"
   ]
  },
  {
   "cell_type": "code",
   "execution_count": null,
   "metadata": {},
   "outputs": [],
   "source": []
  },
  {
   "cell_type": "markdown",
   "metadata": {},
   "source": [
    "An alternative approach – and probably a better one in practice – would have been to go back to the cell that labelled all the regions, and manually remove `Malta` from `southern_europe`. That would ensure that our notebook file had clean, functional, and accurate code, rather than the ugly history of our attempts to generate that code. However, the point here is to illustrate the process, so we are deliberately not doing that."
   ]
  },
  {
   "cell_type": "markdown",
   "metadata": {},
   "source": [
    "Now we want to re-run the code above. Let's cut and paste it from the cell above into the cell below, and then run it. Make sure not to copy over the code that define the lists of countries in each region, because those are already defined, and we don't want to add `Malta` back into `southern_europe`!\n",
    "\n",
    "```python\n",
    "# create a new column in the gapminder_europe data frame called 'region'.\n",
    "# Label each country as belonging to 'Northern Europe', 'Southern Europe',\n",
    "# 'Eastern Europe', or 'Western Europe'\n",
    "gapminder_europe['region'] = 'Western Europe'\n",
    "\n",
    "# label the countries in Northern Europe as 'Northern Europe'\n",
    "gapminder_europe.loc[northern_europe, 'region'] = 'Northern Europe'\n",
    "\n",
    "# label the countries in Southern Europe as 'Southern Europe'\n",
    "gapminder_europe.loc[southern_europe, 'region'] = 'Southern Europe'\n",
    "\n",
    "# label the countries in Eastern Europe as 'Eastern Europe'\n",
    "gapminder_europe.loc[eastern_europe, 'region'] = 'Eastern Europe'\n",
    "```"
   ]
  },
  {
   "cell_type": "code",
   "execution_count": null,
   "metadata": {},
   "outputs": [],
   "source": []
  },
  {
   "cell_type": "markdown",
   "metadata": {},
   "source": [
    "This generates another error, but it looks like the same problem as before: this time, `Belarus` is not in the DataFrame.\n",
    "\n",
    "Why is this happening? Well, we assumed that when Copilot generated those lists of countries in each region, it would use the countries in the `gapminder_europe` DataFrame. But in reality, we don't know how it generated those lists. Maybe it was based on data used to train Copilot that had a larger list of countries in Europe, rather than just the countries in the DataFrame. And again, Copilot was not accurately sensitive to the context of our notebook file. \n",
    "\n",
    "Anyway, we now know how to fix this error, based on what we did above for Malta. But what next? How many more countries did Copilot \"hallucinate\" were in our DataFrame? We can keep repeating this process until we get no errors, but that seems tedious, and could take a long time (especially if we were working with a larger data set). Let's see if we can tweak our prompts from above to generate more accurate lists of countries in each region.\n",
    "\n",
    "### Prompt Engineering\n",
    "\n",
    "My first attempt at a prompt was:\n",
    "```python\n",
    "# create a list of the countries in Northern Europe, limited to the countries in the gapminder_europe data frame\n",
    "```\n",
    "\n",
    "However, this generated the code below, which is obviously wrong. It's deriving the list of countries in Northern Europe from the list of countries in the DataFrame, rather than the other way around.\n",
    "```python\n",
    "northern_europe = gapminder_europe.loc[northern_europe]\n",
    "```\n",
    "\n",
    "The problem with this code is that it's using the `northern_europe` list. But the problem is that those lists are incorrect. So we need a better prompt. Again, we need to break the problem down into smaller steps. Let's start with the first step, and see if we can get Copilot to generate the code to create a list of the countries in Northern Europe,as it did before. Then, in a second step, let's ask it to remove the countries not in the DataFrame. I tried this:\n",
    "\n",
    "```python\n",
    "# create a list of countries in northern europe. Then, remove the names of any \n",
    "# countries in the list that are not in the gapminder_europe data frame\n",
    "```\n",
    "\n",
    "But Copilot only generated code for the first step. So, then I cut the second step from the first prompt, and made it a second step. As you see below, this generated code that ran with no errors. \n",
    "\n",
    "```python\n",
    "# create a list of countries in northern europe. \n",
    "\n",
    "\n",
    "# remove the names of any countries in the list northern_europe that are not in the gapminder_europe data frame\n",
    "```"
   ]
  },
  {
   "cell_type": "code",
   "execution_count": null,
   "metadata": {},
   "outputs": [],
   "source": []
  },
  {
   "cell_type": "markdown",
   "metadata": {},
   "source": [
    "### Check Your Results\n",
    "\n",
    "But we should double-check if the list got changed! We can check by viewing the list. You could ask Copilot to do this, but sometimes for simple things it's faster just to type the code yourself:\n",
    "\n",
    "```python\n",
    "print(northern_europe)\n",
    "```"
   ]
  },
  {
   "cell_type": "code",
   "execution_count": null,
   "metadata": {},
   "outputs": [],
   "source": []
  },
  {
   "cell_type": "markdown",
   "metadata": {},
   "source": [
    "Cross-checking this list against the original one, we can see that `Luxembourg` is no longer in the list. That suggests that Copilot did indeed remove the countries not in the DataFrame. Let's try this for the other regions. For completeness – having all the code for one conceptual step in one cell – we'll copy and paste the Northern Europe code from above, then generate additional prompts for the other regions. Copilot catches on to the repetitive nature of this process quickly, and should generate most of the prompts and code for you. (remember to hit `Enter` twice after each line of code that you accept, to get the next prompt). In fact, after Copilot finished generating prompts for each region, it again generated the prompts to create a new `region` column in our DataFrame, and populate it with the region labels. \n",
    "\n",
    "```python\n",
    "# create a list of countries in northern europe. \n",
    "```"
   ]
  },
  {
   "cell_type": "code",
   "execution_count": null,
   "metadata": {},
   "outputs": [],
   "source": []
  },
  {
   "cell_type": "markdown",
   "metadata": {},
   "source": [
    "This time the code ran without errors. We can spot-check our region labels by getting a random sample of rows from the DataFrame:\n",
    "\n",
    "```python\n",
    "# generate a random sample of rows from the gapminder_europe data frame\n",
    "```"
   ]
  },
  {
   "cell_type": "code",
   "execution_count": null,
   "metadata": {},
   "outputs": [],
   "source": []
  },
  {
   "cell_type": "markdown",
   "metadata": {},
   "source": [
    "Since new columns are added to the right side of a DataFrame, you'll need to scroll to the right to see the new `region` column, but it is indeed there, and the labels in the sample are correct. If you want more reassurance, you could re-run the cell to get a new random sample, or increase the number of samples from 5 to a larger number."
   ]
  },
  {
   "cell_type": "markdown",
   "metadata": {},
   "source": [
    "## AI vs. Human\n",
    "\n",
    "If you look at the code that Copilot generated above, and compare it to what we used in the [pandas lesson](../3-python/pandas_dataframes.ipynb) previous chapter, you'll see that it's quite similar in that both use the `gapminder_europe.loc` method to label countries according to region. However, the process of generating it required some trial and error, and some manual intervention. This isn't actually different from what you would probably be doing – especially as a novice coder – if you were writing the code yourself. But, perhaps ironically, part of the code that we had to prompt Copilot to generate, was to fix errors in the code that it generated.\n",
    "\n",
    "At the same time, if you look back at the pandas lesson, the lists of countries in each region were created manually, in fact there was no explanation as to how those lists were created. In fact, they were created manually by someone reviewing the list of country names in the DataFrame, and using their knowledge of geography (or maybe an internet search) to assign the countries to the labels. In contrast, Copilot generated those lists for us (based on the vast corpus of data it was trained on), which saved us a lot of time. The fact that we had to write additional code to clean up the lists is a small price to pay for that time savings. And indeed, cleaning data is a routine part of data science, and it's good to be able to do it in code, rather than manually. \n",
    "\n",
    "## Critically Evaluating Copilot's Code\n",
    "\n",
    "Although our previous pandas lesson and Copilot both used the `gapminder_europe.loc` method to label countries, there is one important difference between what we showed in the previous lesson, and Copilot's code. Copilot first labelled all countries as `Western Europe`, and then changed the label for non-Western countries. In contrast, in the previous lesson we used the same `gapminder_europe.loc` method to label Western countries as Copilot did here for the other regions. This illustrates how different code can be used to accomplish the same task.\n",
    "\n",
    "However, just because two approaches do the same job (or appear to), there is some danger to the approach that Copilot took here. In labelling all the countries first as `Western Europe`, the assumption is that the other labels we use will cover all of the countries that are not `Western Europe`. However, what if there was a country that was in the DataFrame, but not in any of Copilot's lists of regions? Those countries would incorrectly be lablled as `Western Europe`. In that case, the code Copilot generated would create bugs that would affect the outcome of any analyses applied to the data. This is a good example of why it's important to read and understand the code you're using, and not just blindly accept what Copilot generates.\n",
    "\n",
    "At the very least, a good data scientist will assume the worst of their, or AI-generated, code, and test it to make sure it's doing what it's supposed to do. In this case, since the concern is that a country not in Western Europe may get that label, we can check by comparing the countries with that label in the DataFrame, with the list `western_europe`.\n",
    "\n",
    "Fortunately, Copilot can help us check it's own work – it even correctly generated a lot of the detailed prompt you see below! The prompt below also shows that you can use complex, multi-step prompts with Copilot, and it will generate code for each step. The difference between the complex prompt here, and some that failed above, is that we clearly end each step with a period, and start the next step as a new sentence.\n",
    "\n",
    "```python\n",
    "# list all of the countries in the gapminder_europe data frame labelled as \"Western Europe\".\n",
    "# Then compare this list to the contents of the western_europe list. Print the names of any\n",
    "# countries that are in the western_europe list but not in the gapminder_europe data frame.\n",
    "```"
   ]
  },
  {
   "cell_type": "code",
   "execution_count": null,
   "metadata": {},
   "outputs": [],
   "source": []
  },
  {
   "cell_type": "markdown",
   "metadata": {},
   "source": [
    "The output shows that there are no countries labelled as `Western Europe` that are not in the `western_europe` list. So, Copilot's code is correct. But, it is important to always check – whether it's your own code, or AI-generated.\n",
    "\n",
    "Finally, note that the code that Copilot did generate there is pretty complex. At this point in your development as a coder, do you think you could have written that? And if so, how long do you think it would have taken? Copilot generated that code in a few seconds. This is the promise of AI-assisted coding. At the same time, as a learner and a critical user of AI-generated code, you should take the time to understand what the code is doing, and why. In this case, you can do internet searches for the components of that code that you may not recognize, such as the `set()` function and the `.index` method (``)."
   ]
  },
  {
   "cell_type": "markdown",
   "metadata": {},
   "source": [
    "---\n",
    "\n",
    "## Summary\n",
    "\n",
    "- GitHub Copilot is an AI-assisted coding tool that can generate code for you, based on prompts you write using natural language\n",
    "- Copilot is sensitive to the context of your notebook, and can generate code based on code in other cells, or even other files in your project\n",
    "- Copilot is sensitive to the wording of your prompts, and will generate different code based on how you phrase your prompts\n",
    "- Copilot is sensitive to the formatting of your prompts, and will generate different code based on how you format your prompts (for example, breaking down a problem into steps and writing each step as a separate prompt, or a separate sentence in a longer prompt)\n",
    "- Because of the generative nature of LLMs like GitHub Copilot, the results will not be the same every time you give it the same prompt (in fact, Copilot may generate different answers than you see in this lesson to the same prompts, when you try it.)\n",
    "- You can also ask Copilot to generate alternative code solutions to your prompt, by pressing `Option+[` (or `Start+[` on Windows) after you get the first code suggestion (note that you have to wait until Copilot generates a suggestion before pressing those keys)\n",
    "- Copilot is not perfect, and may generate code that doesn't work, or that doesn't do what you want it to do. It's important to read and understand the code it generates, and to test it to make sure it's doing what you want it to do.\n",
    "- Copilot is not a replacement for learning to code. It's a tool to help you code faster, and to help you learn to code. But you still need to learn to code, and to understand what you're doing. On the bright side, Copilot can help you learn to code, by generating code for you that you can then read and try to understand.\n"
   ]
  }
 ],
 "metadata": {
  "kernelspec": {
   "display_name": "ncil",
   "language": "python",
   "name": "python3"
  },
  "language_info": {
   "codemirror_mode": {
    "name": "ipython",
    "version": 3
   },
   "file_extension": ".py",
   "mimetype": "text/x-python",
   "name": "python",
   "nbconvert_exporter": "python",
   "pygments_lexer": "ipython3",
   "version": "3.10.12"
  },
  "orig_nbformat": 4
 },
 "nbformat": 4,
 "nbformat_minor": 2
}
